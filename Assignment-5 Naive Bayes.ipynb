{
 "cells": [
  {
   "cell_type": "markdown",
   "id": "2d3c51eb",
   "metadata": {},
   "source": [
    "#### Suppose we have a dataset of weather conditions and the corresponding target variable \"Play\". So using this dataset we need to decide whether we should play or not on a particular day according to the weather conditions. So to solve this problem, we need to follow the below steps:\n",
    "\n",
    "- Convert the given dataset into frequency tables.\n",
    "- Generate a Likelihood table by finding the probabilities of given features.\n",
    "- Now, use the Bayes theorem to calculate the posterior probability."
   ]
  },
  {
   "cell_type": "markdown",
   "id": "bf082f6b",
   "metadata": {},
   "source": [
    "#### Step 1: Import all standard library"
   ]
  },
  {
   "cell_type": "code",
   "execution_count": 1,
   "id": "43480237",
   "metadata": {},
   "outputs": [],
   "source": [
    "import pandas as pd\n",
    "import numpy as np\n",
    "import matplotlib.pyplot as plt\n",
    "import seaborn as sns\n",
    "import warnings\n",
    "warnings.filterwarnings('ignore')"
   ]
  },
  {
   "cell_type": "markdown",
   "id": "779599f7",
   "metadata": {},
   "source": [
    "#### Step 2: Load the dataset"
   ]
  },
  {
   "cell_type": "code",
   "execution_count": 7,
   "id": "207cbfe7",
   "metadata": {},
   "outputs": [
    {
     "data": {
      "text/html": [
       "<div>\n",
       "<style scoped>\n",
       "    .dataframe tbody tr th:only-of-type {\n",
       "        vertical-align: middle;\n",
       "    }\n",
       "\n",
       "    .dataframe tbody tr th {\n",
       "        vertical-align: top;\n",
       "    }\n",
       "\n",
       "    .dataframe thead th {\n",
       "        text-align: right;\n",
       "    }\n",
       "</style>\n",
       "<table border=\"1\" class=\"dataframe\">\n",
       "  <thead>\n",
       "    <tr style=\"text-align: right;\">\n",
       "      <th></th>\n",
       "      <th>day</th>\n",
       "      <th>outlook</th>\n",
       "      <th>temp</th>\n",
       "      <th>humidity</th>\n",
       "      <th>wind</th>\n",
       "      <th>play</th>\n",
       "    </tr>\n",
       "  </thead>\n",
       "  <tbody>\n",
       "    <tr>\n",
       "      <th>0</th>\n",
       "      <td>D1</td>\n",
       "      <td>Sunny</td>\n",
       "      <td>Hot</td>\n",
       "      <td>High</td>\n",
       "      <td>Weak</td>\n",
       "      <td>No</td>\n",
       "    </tr>\n",
       "    <tr>\n",
       "      <th>1</th>\n",
       "      <td>D2</td>\n",
       "      <td>Sunny</td>\n",
       "      <td>Hot</td>\n",
       "      <td>High</td>\n",
       "      <td>Strong</td>\n",
       "      <td>No</td>\n",
       "    </tr>\n",
       "    <tr>\n",
       "      <th>2</th>\n",
       "      <td>D3</td>\n",
       "      <td>Overcast</td>\n",
       "      <td>Hot</td>\n",
       "      <td>High</td>\n",
       "      <td>Weak</td>\n",
       "      <td>Yes</td>\n",
       "    </tr>\n",
       "    <tr>\n",
       "      <th>3</th>\n",
       "      <td>D4</td>\n",
       "      <td>Rain</td>\n",
       "      <td>Mild</td>\n",
       "      <td>High</td>\n",
       "      <td>Weak</td>\n",
       "      <td>Yes</td>\n",
       "    </tr>\n",
       "    <tr>\n",
       "      <th>4</th>\n",
       "      <td>D5</td>\n",
       "      <td>Rain</td>\n",
       "      <td>Cool</td>\n",
       "      <td>Normal</td>\n",
       "      <td>Weak</td>\n",
       "      <td>Yes</td>\n",
       "    </tr>\n",
       "    <tr>\n",
       "      <th>5</th>\n",
       "      <td>D6</td>\n",
       "      <td>Rain</td>\n",
       "      <td>Cool</td>\n",
       "      <td>Normal</td>\n",
       "      <td>Strong</td>\n",
       "      <td>No</td>\n",
       "    </tr>\n",
       "    <tr>\n",
       "      <th>6</th>\n",
       "      <td>D7</td>\n",
       "      <td>Overcast</td>\n",
       "      <td>Cool</td>\n",
       "      <td>Normal</td>\n",
       "      <td>Strong</td>\n",
       "      <td>Yes</td>\n",
       "    </tr>\n",
       "    <tr>\n",
       "      <th>7</th>\n",
       "      <td>D8</td>\n",
       "      <td>Sunny</td>\n",
       "      <td>Mild</td>\n",
       "      <td>High</td>\n",
       "      <td>Weak</td>\n",
       "      <td>No</td>\n",
       "    </tr>\n",
       "    <tr>\n",
       "      <th>8</th>\n",
       "      <td>D9</td>\n",
       "      <td>Sunny</td>\n",
       "      <td>Cool</td>\n",
       "      <td>Normal</td>\n",
       "      <td>Weak</td>\n",
       "      <td>Yes</td>\n",
       "    </tr>\n",
       "    <tr>\n",
       "      <th>9</th>\n",
       "      <td>D10</td>\n",
       "      <td>Rain</td>\n",
       "      <td>Mild</td>\n",
       "      <td>Normal</td>\n",
       "      <td>Weak</td>\n",
       "      <td>Yes</td>\n",
       "    </tr>\n",
       "    <tr>\n",
       "      <th>10</th>\n",
       "      <td>D11</td>\n",
       "      <td>Sunny</td>\n",
       "      <td>Mild</td>\n",
       "      <td>Normal</td>\n",
       "      <td>Strong</td>\n",
       "      <td>Yes</td>\n",
       "    </tr>\n",
       "    <tr>\n",
       "      <th>11</th>\n",
       "      <td>D12</td>\n",
       "      <td>Overcast</td>\n",
       "      <td>Mild</td>\n",
       "      <td>High</td>\n",
       "      <td>Strong</td>\n",
       "      <td>Yes</td>\n",
       "    </tr>\n",
       "    <tr>\n",
       "      <th>12</th>\n",
       "      <td>D13</td>\n",
       "      <td>Overcast</td>\n",
       "      <td>Hot</td>\n",
       "      <td>Normal</td>\n",
       "      <td>Weak</td>\n",
       "      <td>Yes</td>\n",
       "    </tr>\n",
       "    <tr>\n",
       "      <th>13</th>\n",
       "      <td>D14</td>\n",
       "      <td>Rain</td>\n",
       "      <td>Mild</td>\n",
       "      <td>High</td>\n",
       "      <td>Strong</td>\n",
       "      <td>No</td>\n",
       "    </tr>\n",
       "  </tbody>\n",
       "</table>\n",
       "</div>"
      ],
      "text/plain": [
       "    day   outlook  temp humidity    wind play\n",
       "0    D1     Sunny   Hot     High    Weak   No\n",
       "1    D2     Sunny   Hot     High  Strong   No\n",
       "2    D3  Overcast   Hot     High    Weak  Yes\n",
       "3    D4      Rain  Mild     High    Weak  Yes\n",
       "4    D5      Rain  Cool   Normal    Weak  Yes\n",
       "5    D6      Rain  Cool   Normal  Strong   No\n",
       "6    D7  Overcast  Cool   Normal  Strong  Yes\n",
       "7    D8     Sunny  Mild     High    Weak   No\n",
       "8    D9     Sunny  Cool   Normal    Weak  Yes\n",
       "9   D10      Rain  Mild   Normal    Weak  Yes\n",
       "10  D11     Sunny  Mild   Normal  Strong  Yes\n",
       "11  D12  Overcast  Mild     High  Strong  Yes\n",
       "12  D13  Overcast   Hot   Normal    Weak  Yes\n",
       "13  D14      Rain  Mild     High  Strong   No"
      ]
     },
     "execution_count": 7,
     "metadata": {},
     "output_type": "execute_result"
    }
   ],
   "source": [
    "data = pd.read_csv('play_tennis.csv')\n",
    "data"
   ]
  },
  {
   "cell_type": "code",
   "execution_count": 3,
   "id": "0800191f",
   "metadata": {},
   "outputs": [
    {
     "data": {
      "text/plain": [
       "(14, 6)"
      ]
     },
     "execution_count": 3,
     "metadata": {},
     "output_type": "execute_result"
    }
   ],
   "source": [
    "data.shape"
   ]
  },
  {
   "cell_type": "code",
   "execution_count": 6,
   "id": "fed7c6e9",
   "metadata": {},
   "outputs": [
    {
     "name": "stdout",
     "output_type": "stream",
     "text": [
      "<class 'pandas.core.frame.DataFrame'>\n",
      "RangeIndex: 14 entries, 0 to 13\n",
      "Data columns (total 6 columns):\n",
      " #   Column    Non-Null Count  Dtype \n",
      "---  ------    --------------  ----- \n",
      " 0   day       14 non-null     object\n",
      " 1   outlook   14 non-null     object\n",
      " 2   temp      14 non-null     object\n",
      " 3   humidity  14 non-null     object\n",
      " 4   wind      14 non-null     object\n",
      " 5   play      14 non-null     object\n",
      "dtypes: object(6)\n",
      "memory usage: 800.0+ bytes\n"
     ]
    }
   ],
   "source": [
    "data.info()"
   ]
  },
  {
   "cell_type": "code",
   "execution_count": 5,
   "id": "60a837a4",
   "metadata": {},
   "outputs": [
    {
     "data": {
      "text/plain": [
       "day         0\n",
       "outlook     0\n",
       "temp        0\n",
       "humidity    0\n",
       "wind        0\n",
       "play        0\n",
       "dtype: int64"
      ]
     },
     "execution_count": 5,
     "metadata": {},
     "output_type": "execute_result"
    }
   ],
   "source": [
    "data.isnull().sum()"
   ]
  },
  {
   "cell_type": "markdown",
   "id": "3a88954d",
   "metadata": {},
   "source": [
    "#### Convert the given dataset into frequency tables."
   ]
  },
  {
   "cell_type": "markdown",
   "id": "ef492392",
   "metadata": {},
   "source": [
    "- Problem: If the weather is sunny, then the Player should play or not?\n",
    "\n",
    "- Solution: To solve this, first consider the below dataset:\n",
    "\n",
    "   day\toutlook\ttemp\tplay\n",
    "0\tD1\tSunny\t\t    No\n",
    "1\tD2\tSunny\t\t    No\n",
    "2\tD3\tOvercast\t    Yes\n",
    "3\tD4\tRain\t\t    Yes\n",
    "4\tD5\tRain\t        Yes\n",
    "5\tD6\tRain\t\t    No\n",
    "6\tD7\tOvercast\t    Yes\n",
    "7\tD8\tSunny\t        No\n",
    "8\tD9\tSunny\t        Yes\n",
    "9\tD10\tRain\t        Yes\n",
    "10\tD11\tSunny\t        Yes\n",
    "11\tD12\tOvercast\t    Yes\n",
    "12\tD13\tOvercast\t    Yes\n",
    "13\tD14\tRain\t\t    No\n",
    "\n",
    "\n",
    "Frequency table for the Weather Conditions:\n",
    "\n",
    "- Weather\t    Yes\t  No\n",
    "Overcast\t    4  \t  0\n",
    "Rain\t        3     2\n",
    "Sunny\t        2     3\n",
    "- Total\t        9\t  5"
   ]
  },
  {
   "cell_type": "markdown",
   "id": "ac6b46ef",
   "metadata": {},
   "source": [
    "### Likelihood table weather condition:"
   ]
  },
  {
   "cell_type": "markdown",
   "id": "f3412212",
   "metadata": {},
   "source": [
    "- Weather       Yes        No\n",
    "Overcast        4          0          4/14= 0.2857\n",
    "Rain\t        3          2          5/14= 0.3571\n",
    "Sunny\t        2          3          5/14= 0.3571\n",
    "- Total\t    9/14=0.6428\t  5/14=0.3571"
   ]
  },
  {
   "cell_type": "markdown",
   "id": "09de109f",
   "metadata": {},
   "source": [
    "### - Now, use the Bayes theorem to calculate the posterior probability."
   ]
  },
  {
   "cell_type": "code",
   "execution_count": 11,
   "id": "0a9d84af",
   "metadata": {},
   "outputs": [
    {
     "data": {
      "text/html": [
       "<div>\n",
       "<style scoped>\n",
       "    .dataframe tbody tr th:only-of-type {\n",
       "        vertical-align: middle;\n",
       "    }\n",
       "\n",
       "    .dataframe tbody tr th {\n",
       "        vertical-align: top;\n",
       "    }\n",
       "\n",
       "    .dataframe thead th {\n",
       "        text-align: right;\n",
       "    }\n",
       "</style>\n",
       "<table border=\"1\" class=\"dataframe\">\n",
       "  <thead>\n",
       "    <tr style=\"text-align: right;\">\n",
       "      <th></th>\n",
       "      <th>day</th>\n",
       "      <th>outlook</th>\n",
       "      <th>temp</th>\n",
       "      <th>humidity</th>\n",
       "      <th>wind</th>\n",
       "      <th>play</th>\n",
       "    </tr>\n",
       "  </thead>\n",
       "  <tbody>\n",
       "    <tr>\n",
       "      <th>0</th>\n",
       "      <td>D1</td>\n",
       "      <td>Sunny</td>\n",
       "      <td>Hot</td>\n",
       "      <td>High</td>\n",
       "      <td>Weak</td>\n",
       "      <td>No</td>\n",
       "    </tr>\n",
       "    <tr>\n",
       "      <th>1</th>\n",
       "      <td>D2</td>\n",
       "      <td>Sunny</td>\n",
       "      <td>Hot</td>\n",
       "      <td>High</td>\n",
       "      <td>Strong</td>\n",
       "      <td>No</td>\n",
       "    </tr>\n",
       "    <tr>\n",
       "      <th>2</th>\n",
       "      <td>D3</td>\n",
       "      <td>Overcast</td>\n",
       "      <td>Hot</td>\n",
       "      <td>High</td>\n",
       "      <td>Weak</td>\n",
       "      <td>Yes</td>\n",
       "    </tr>\n",
       "    <tr>\n",
       "      <th>3</th>\n",
       "      <td>D4</td>\n",
       "      <td>Rain</td>\n",
       "      <td>Mild</td>\n",
       "      <td>High</td>\n",
       "      <td>Weak</td>\n",
       "      <td>Yes</td>\n",
       "    </tr>\n",
       "    <tr>\n",
       "      <th>4</th>\n",
       "      <td>D5</td>\n",
       "      <td>Rain</td>\n",
       "      <td>Cool</td>\n",
       "      <td>Normal</td>\n",
       "      <td>Weak</td>\n",
       "      <td>Yes</td>\n",
       "    </tr>\n",
       "  </tbody>\n",
       "</table>\n",
       "</div>"
      ],
      "text/plain": [
       "  day   outlook  temp humidity    wind play\n",
       "0  D1     Sunny   Hot     High    Weak   No\n",
       "1  D2     Sunny   Hot     High  Strong   No\n",
       "2  D3  Overcast   Hot     High    Weak  Yes\n",
       "3  D4      Rain  Mild     High    Weak  Yes\n",
       "4  D5      Rain  Cool   Normal    Weak  Yes"
      ]
     },
     "execution_count": 11,
     "metadata": {},
     "output_type": "execute_result"
    }
   ],
   "source": [
    "data.head()"
   ]
  },
  {
   "cell_type": "markdown",
   "id": "ff242cc5",
   "metadata": {},
   "source": [
    "- here target variable is 'play'."
   ]
  },
  {
   "cell_type": "code",
   "execution_count": 12,
   "id": "b451b74c",
   "metadata": {},
   "outputs": [
    {
     "data": {
      "text/plain": [
       "<AxesSubplot:xlabel='outlook', ylabel='count'>"
      ]
     },
     "execution_count": 12,
     "metadata": {},
     "output_type": "execute_result"
    },
    {
     "data": {
      "image/png": "[encoded data removed]",
      "text/plain": [
       "<Figure size 640x480 with 1 Axes>"
      ]
     },
     "metadata": {},
     "output_type": "display_data"
    }
   ],
   "source": [
    "sns.countplot(x=data['outlook'], hue=data['play'])"
   ]
  },
  {
   "cell_type": "code",
   "execution_count": 14,
   "id": "07a67940",
   "metadata": {},
   "outputs": [
    {
     "data": {
      "text/plain": [
       "<AxesSubplot:xlabel='temp', ylabel='count'>"
      ]
     },
     "execution_count": 14,
     "metadata": {},
     "output_type": "execute_result"
    },
    {
     "data": {
      "image/png": "[encoded data removed]",
      "text/plain": [
       "<Figure size 640x480 with 1 Axes>"
      ]
     },
     "metadata": {},
     "output_type": "display_data"
    }
   ],
   "source": [
    "sns.countplot(x=data['temp'], hue=data['play'])"
   ]
  },
  {
   "cell_type": "code",
   "execution_count": 15,
   "id": "03d11ab5",
   "metadata": {},
   "outputs": [
    {
     "data": {
      "text/plain": [
       "<AxesSubplot:xlabel='wind', ylabel='count'>"
      ]
     },
     "execution_count": 15,
     "metadata": {},
     "output_type": "execute_result"
    },
    {
     "data": {
      "image/png": "[encoded data removed]",
      "text/plain": [
       "<Figure size 640x480 with 1 Axes>"
      ]
     },
     "metadata": {},
     "output_type": "display_data"
    }
   ],
   "source": [
    "sns.countplot(x=data['wind'], hue=data['play'])"
   ]
  },
  {
   "cell_type": "markdown",
   "id": "746957c1",
   "metadata": {},
   "source": [
    "### Step 3: Data Cleaning Process"
   ]
  },
  {
   "cell_type": "code",
   "execution_count": 17,
   "id": "37b1d50e",
   "metadata": {},
   "outputs": [
    {
     "data": {
      "text/plain": [
       "Index(['day', 'outlook', 'temp', 'humidity', 'wind', 'play'], dtype='object')"
      ]
     },
     "execution_count": 17,
     "metadata": {},
     "output_type": "execute_result"
    }
   ],
   "source": [
    "data.columns"
   ]
  },
  {
   "cell_type": "code",
   "execution_count": 27,
   "id": "3b3f68f0",
   "metadata": {},
   "outputs": [
    {
     "data": {
      "text/plain": [
       "1    9\n",
       "0    5\n",
       "Name: play, dtype: int64"
      ]
     },
     "execution_count": 27,
     "metadata": {},
     "output_type": "execute_result"
    }
   ],
   "source": [
    "data['play'].value_counts()"
   ]
  },
  {
   "cell_type": "code",
   "execution_count": 18,
   "id": "e00a2c2e",
   "metadata": {},
   "outputs": [
    {
     "data": {
      "text/html": [
       "<div>\n",
       "<style scoped>\n",
       "    .dataframe tbody tr th:only-of-type {\n",
       "        vertical-align: middle;\n",
       "    }\n",
       "\n",
       "    .dataframe tbody tr th {\n",
       "        vertical-align: top;\n",
       "    }\n",
       "\n",
       "    .dataframe thead th {\n",
       "        text-align: right;\n",
       "    }\n",
       "</style>\n",
       "<table border=\"1\" class=\"dataframe\">\n",
       "  <thead>\n",
       "    <tr style=\"text-align: right;\">\n",
       "      <th></th>\n",
       "      <th>outlook</th>\n",
       "      <th>temp</th>\n",
       "      <th>humidity</th>\n",
       "      <th>wind</th>\n",
       "      <th>play</th>\n",
       "    </tr>\n",
       "  </thead>\n",
       "  <tbody>\n",
       "    <tr>\n",
       "      <th>0</th>\n",
       "      <td>Sunny</td>\n",
       "      <td>Hot</td>\n",
       "      <td>High</td>\n",
       "      <td>Weak</td>\n",
       "      <td>No</td>\n",
       "    </tr>\n",
       "    <tr>\n",
       "      <th>1</th>\n",
       "      <td>Sunny</td>\n",
       "      <td>Hot</td>\n",
       "      <td>High</td>\n",
       "      <td>Strong</td>\n",
       "      <td>No</td>\n",
       "    </tr>\n",
       "    <tr>\n",
       "      <th>2</th>\n",
       "      <td>Overcast</td>\n",
       "      <td>Hot</td>\n",
       "      <td>High</td>\n",
       "      <td>Weak</td>\n",
       "      <td>Yes</td>\n",
       "    </tr>\n",
       "    <tr>\n",
       "      <th>3</th>\n",
       "      <td>Rain</td>\n",
       "      <td>Mild</td>\n",
       "      <td>High</td>\n",
       "      <td>Weak</td>\n",
       "      <td>Yes</td>\n",
       "    </tr>\n",
       "    <tr>\n",
       "      <th>4</th>\n",
       "      <td>Rain</td>\n",
       "      <td>Cool</td>\n",
       "      <td>Normal</td>\n",
       "      <td>Weak</td>\n",
       "      <td>Yes</td>\n",
       "    </tr>\n",
       "  </tbody>\n",
       "</table>\n",
       "</div>"
      ],
      "text/plain": [
       "    outlook  temp humidity    wind play\n",
       "0     Sunny   Hot     High    Weak   No\n",
       "1     Sunny   Hot     High  Strong   No\n",
       "2  Overcast   Hot     High    Weak  Yes\n",
       "3      Rain  Mild     High    Weak  Yes\n",
       "4      Rain  Cool   Normal    Weak  Yes"
      ]
     },
     "execution_count": 18,
     "metadata": {},
     "output_type": "execute_result"
    }
   ],
   "source": [
    "# drop unnecessary column\n",
    "\n",
    "data = data.drop('day',axis=1)\n",
    "data.head()"
   ]
  },
  {
   "cell_type": "markdown",
   "id": "b18fae9c",
   "metadata": {},
   "source": [
    "- apply label conding on text data "
   ]
  },
  {
   "cell_type": "code",
   "execution_count": 19,
   "id": "7b06d08c",
   "metadata": {},
   "outputs": [
    {
     "data": {
      "text/plain": [
       "LabelEncoder()"
      ]
     },
     "execution_count": 19,
     "metadata": {},
     "output_type": "execute_result"
    }
   ],
   "source": [
    "from sklearn.preprocessing import LabelEncoder\n",
    "le = LabelEncoder()\n",
    "le"
   ]
  },
  {
   "cell_type": "code",
   "execution_count": 25,
   "id": "87db9cd9",
   "metadata": {},
   "outputs": [
    {
     "data": {
      "text/html": [
       "<div>\n",
       "<style scoped>\n",
       "    .dataframe tbody tr th:only-of-type {\n",
       "        vertical-align: middle;\n",
       "    }\n",
       "\n",
       "    .dataframe tbody tr th {\n",
       "        vertical-align: top;\n",
       "    }\n",
       "\n",
       "    .dataframe thead th {\n",
       "        text-align: right;\n",
       "    }\n",
       "</style>\n",
       "<table border=\"1\" class=\"dataframe\">\n",
       "  <thead>\n",
       "    <tr style=\"text-align: right;\">\n",
       "      <th></th>\n",
       "      <th>outlook</th>\n",
       "      <th>temp</th>\n",
       "      <th>humidity</th>\n",
       "      <th>wind</th>\n",
       "      <th>play</th>\n",
       "    </tr>\n",
       "  </thead>\n",
       "  <tbody>\n",
       "    <tr>\n",
       "      <th>0</th>\n",
       "      <td>2</td>\n",
       "      <td>1</td>\n",
       "      <td>0</td>\n",
       "      <td>1</td>\n",
       "      <td>0</td>\n",
       "    </tr>\n",
       "    <tr>\n",
       "      <th>1</th>\n",
       "      <td>2</td>\n",
       "      <td>1</td>\n",
       "      <td>0</td>\n",
       "      <td>0</td>\n",
       "      <td>0</td>\n",
       "    </tr>\n",
       "    <tr>\n",
       "      <th>2</th>\n",
       "      <td>0</td>\n",
       "      <td>1</td>\n",
       "      <td>0</td>\n",
       "      <td>1</td>\n",
       "      <td>1</td>\n",
       "    </tr>\n",
       "    <tr>\n",
       "      <th>3</th>\n",
       "      <td>1</td>\n",
       "      <td>2</td>\n",
       "      <td>0</td>\n",
       "      <td>1</td>\n",
       "      <td>1</td>\n",
       "    </tr>\n",
       "    <tr>\n",
       "      <th>4</th>\n",
       "      <td>1</td>\n",
       "      <td>0</td>\n",
       "      <td>1</td>\n",
       "      <td>1</td>\n",
       "      <td>1</td>\n",
       "    </tr>\n",
       "  </tbody>\n",
       "</table>\n",
       "</div>"
      ],
      "text/plain": [
       "   outlook  temp  humidity  wind  play\n",
       "0        2     1         0     1     0\n",
       "1        2     1         0     0     0\n",
       "2        0     1         0     1     1\n",
       "3        1     2         0     1     1\n",
       "4        1     0         1     1     1"
      ]
     },
     "execution_count": 25,
     "metadata": {},
     "output_type": "execute_result"
    }
   ],
   "source": [
    "data['outlook'] = le.fit_transform(data['outlook'])\n",
    "data['temp'] = le.fit_transform(data['temp'])\n",
    "data['humidity'] = le.fit_transform(data['humidity'])\n",
    "data['wind'] = le.fit_transform(data['wind'])\n",
    "data['play'] = le.fit_transform(data['play'])\n",
    "data.head()"
   ]
  },
  {
   "cell_type": "markdown",
   "id": "30857559",
   "metadata": {},
   "source": [
    "- check the relation between dependent and independet variable."
   ]
  },
  {
   "cell_type": "code",
   "execution_count": 26,
   "id": "0d6ccdc0",
   "metadata": {},
   "outputs": [
    {
     "data": {
      "image/png": "[encoded data removed]",
      "text/plain": [
       "<Figure size 640x480 with 2 Axes>"
      ]
     },
     "metadata": {},
     "output_type": "display_data"
    }
   ],
   "source": [
    "sns.heatmap(data.corr(), annot=True)\n",
    "plt.show()"
   ]
  },
  {
   "cell_type": "markdown",
   "id": "c376c4f4",
   "metadata": {},
   "source": [
    "#### Step 4: Separate x and y"
   ]
  },
  {
   "cell_type": "code",
   "execution_count": 28,
   "id": "bad62dc8",
   "metadata": {},
   "outputs": [],
   "source": [
    "x= data.drop('play',axis=1)\n",
    "y= data['play']"
   ]
  },
  {
   "cell_type": "markdown",
   "id": "51135647",
   "metadata": {},
   "source": [
    "#### Step 5: Split the dataset into train and test set"
   ]
  },
  {
   "cell_type": "code",
   "execution_count": 31,
   "id": "5ddb2e72",
   "metadata": {},
   "outputs": [],
   "source": [
    "from sklearn.model_selection import train_test_split\n",
    "x_train,x_test,y_train,y_test = train_test_split(x,y,test_size=0.2,random_state=0)"
   ]
  },
  {
   "cell_type": "markdown",
   "id": "9ff37993",
   "metadata": {},
   "source": [
    "#### Step 6: Apply GaussianNB algorithm"
   ]
  },
  {
   "cell_type": "code",
   "execution_count": 32,
   "id": "7b137893",
   "metadata": {},
   "outputs": [
    {
     "data": {
      "text/plain": [
       "GaussianNB()"
      ]
     },
     "execution_count": 32,
     "metadata": {},
     "output_type": "execute_result"
    }
   ],
   "source": [
    "from sklearn.naive_bayes import GaussianNB\n",
    "gnb = GaussianNB()\n",
    "gnb"
   ]
  },
  {
   "cell_type": "code",
   "execution_count": 33,
   "id": "df042c5f",
   "metadata": {},
   "outputs": [
    {
     "data": {
      "text/plain": [
       "GaussianNB()"
      ]
     },
     "execution_count": 33,
     "metadata": {},
     "output_type": "execute_result"
    }
   ],
   "source": [
    "gnb.fit(x_train,y_train)"
   ]
  },
  {
   "cell_type": "markdown",
   "id": "8790371f",
   "metadata": {},
   "source": [
    "#### Step 7: Prediction on x test "
   ]
  },
  {
   "cell_type": "code",
   "execution_count": 34,
   "id": "811d13b4",
   "metadata": {},
   "outputs": [
    {
     "data": {
      "text/plain": [
       "array([0, 1, 0])"
      ]
     },
     "execution_count": 34,
     "metadata": {},
     "output_type": "execute_result"
    }
   ],
   "source": [
    "y_pred = gnb.predict(x_test)\n",
    "y_pred"
   ]
  },
  {
   "cell_type": "markdown",
   "id": "e870373c",
   "metadata": {},
   "source": [
    "#### Step 8: Evaluation"
   ]
  },
  {
   "cell_type": "code",
   "execution_count": 35,
   "id": "8fcc29c8",
   "metadata": {},
   "outputs": [
    {
     "data": {
      "text/plain": [
       "0.3333333333333333"
      ]
     },
     "execution_count": 35,
     "metadata": {},
     "output_type": "execute_result"
    }
   ],
   "source": [
    "from sklearn.metrics import accuracy_score\n",
    "accuracy = accuracy_score(y_test,y_pred)\n",
    "accuracy"
   ]
  },
  {
   "cell_type": "markdown",
   "id": "7914c264",
   "metadata": {},
   "source": [
    "- got 33% accuracy"
   ]
  },
  {
   "cell_type": "code",
   "execution_count": 39,
   "id": "6e512ea5",
   "metadata": {},
   "outputs": [
    {
     "name": "stdout",
     "output_type": "stream",
     "text": [
      "[[0 0]\n",
      " [2 1]]\n"
     ]
    },
    {
     "data": {
      "image/png": "[encoded data removed]",
      "text/plain": [
       "<Figure size 640x480 with 2 Axes>"
      ]
     },
     "metadata": {},
     "output_type": "display_data"
    }
   ],
   "source": [
    "from sklearn.metrics import confusion_matrix\n",
    "ConfusionMatrix=confusion_matrix(y_test,y_pred)\n",
    "print(ConfusionMatrix)\n",
    "\n",
    "ax=sns.heatmap(ConfusionMatrix,annot=True,cmap=\"YlGnBu\")\n",
    "ax.set_title('Confusion matrix')\n",
    "ax.set_xlabel('Predicted values')\n",
    "ax.set_ylabel('Actual values')\n",
    "plt.show()"
   ]
  },
  {
   "cell_type": "code",
   "execution_count": 45,
   "id": "b13fd48f",
   "metadata": {},
   "outputs": [
    {
     "data": {
      "text/plain": [
       "array([0.66666667, 1.        , 0.66666667, 0.66666667, 0.5       ])"
      ]
     },
     "execution_count": 45,
     "metadata": {},
     "output_type": "execute_result"
    }
   ],
   "source": [
    "from sklearn.model_selection import cross_val_score\n",
    "cross_val_score(gnb,x,y,cv=5)"
   ]
  },
  {
   "cell_type": "markdown",
   "id": "234f5c5b",
   "metadata": {},
   "source": [
    "- By using cross_val_score we got 100% accuracy"
   ]
  },
  {
   "cell_type": "markdown",
   "id": "791b5ff2",
   "metadata": {},
   "source": [
    "#### Classification Report"
   ]
  },
  {
   "cell_type": "code",
   "execution_count": 47,
   "id": "29f3ce7e",
   "metadata": {
    "scrolled": true
   },
   "outputs": [
    {
     "name": "stdout",
     "output_type": "stream",
     "text": [
      "              precision    recall  f1-score   support\n",
      "\n",
      "           0       0.00      0.00      0.00         0\n",
      "           1       1.00      0.33      0.50         3\n",
      "\n",
      "    accuracy                           0.33         3\n",
      "   macro avg       0.50      0.17      0.25         3\n",
      "weighted avg       1.00      0.33      0.50         3\n",
      "\n"
     ]
    }
   ],
   "source": [
    "from sklearn.metrics import classification_report\n",
    "print(classification_report(y_test, y_pred))"
   ]
  },
  {
   "cell_type": "code",
   "execution_count": null,
   "id": "1ffd88b9",
   "metadata": {},
   "outputs": [],
   "source": []
  }
 ],
 "metadata": {
  "kernelspec": {
   "display_name": "Python 3 (ipykernel)",
   "language": "python",
   "name": "python3"
  },
  "language_info": {
   "codemirror_mode": {
    "name": "ipython",
    "version": 3
   },
   "file_extension": ".py",
   "mimetype": "text/x-python",
   "name": "python",
   "nbconvert_exporter": "python",
   "pygments_lexer": "ipython3",
   "version": "3.9.13"
  }
 },
 "nbformat": 4,
 "nbformat_minor": 5
}
